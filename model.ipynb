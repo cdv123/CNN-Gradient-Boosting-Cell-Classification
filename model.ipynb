{
 "cells": [
  {
   "cell_type": "code",
   "execution_count": 1,
   "metadata": {
    "vscode": {
     "languageId": "shellscript"
    }
   },
   "outputs": [
    {
     "name": "stdout",
     "output_type": "stream",
     "text": [
      "Defaulting to user installation because normal site-packages is not writeable\n",
      "Requirement already satisfied: medmnist in /home/charles-dv/.local/lib/python3.10/site-packages (2.2.3)\n",
      "Requirement already satisfied: pandas in /home/charles-dv/.local/lib/python3.10/site-packages (from medmnist) (2.1.2)\n",
      "Requirement already satisfied: scikit-learn in /home/charles-dv/.local/lib/python3.10/site-packages (from medmnist) (1.3.2)\n",
      "Requirement already satisfied: Pillow in /home/charles-dv/.local/lib/python3.10/site-packages (from medmnist) (10.1.0)\n",
      "Requirement already satisfied: fire in /home/charles-dv/.local/lib/python3.10/site-packages (from medmnist) (0.5.0)\n",
      "Requirement already satisfied: numpy in /home/charles-dv/.local/lib/python3.10/site-packages (from medmnist) (1.26.1)\n",
      "Requirement already satisfied: torchvision in /home/charles-dv/.local/lib/python3.10/site-packages (from medmnist) (0.16.2)\n",
      "Requirement already satisfied: tqdm in /home/charles-dv/.local/lib/python3.10/site-packages (from medmnist) (4.66.1)\n",
      "Requirement already satisfied: torch in /home/charles-dv/.local/lib/python3.10/site-packages (from medmnist) (2.1.2)\n",
      "Requirement already satisfied: scikit-image in /home/charles-dv/.local/lib/python3.10/site-packages (from medmnist) (0.22.0)\n",
      "Requirement already satisfied: termcolor in /home/charles-dv/.local/lib/python3.10/site-packages (from fire->medmnist) (2.3.0)\n",
      "Requirement already satisfied: six in /usr/lib/python3/dist-packages (from fire->medmnist) (1.16.0)\n",
      "Requirement already satisfied: python-dateutil>=2.8.2 in /home/charles-dv/.local/lib/python3.10/site-packages (from pandas->medmnist) (2.8.2)\n",
      "Requirement already satisfied: tzdata>=2022.1 in /home/charles-dv/.local/lib/python3.10/site-packages (from pandas->medmnist) (2023.3)\n",
      "Requirement already satisfied: pytz>=2020.1 in /home/charles-dv/.local/lib/python3.10/site-packages (from pandas->medmnist) (2023.3.post1)\n",
      "Requirement already satisfied: packaging>=21 in /home/charles-dv/.local/lib/python3.10/site-packages (from scikit-image->medmnist) (23.2)\n",
      "Requirement already satisfied: networkx>=2.8 in /home/charles-dv/.local/lib/python3.10/site-packages (from scikit-image->medmnist) (3.2.1)\n",
      "Requirement already satisfied: lazy_loader>=0.3 in /home/charles-dv/.local/lib/python3.10/site-packages (from scikit-image->medmnist) (0.3)\n",
      "Requirement already satisfied: scipy>=1.8 in /home/charles-dv/.local/lib/python3.10/site-packages (from scikit-image->medmnist) (1.11.3)\n",
      "Requirement already satisfied: imageio>=2.27 in /home/charles-dv/.local/lib/python3.10/site-packages (from scikit-image->medmnist) (2.33.1)\n",
      "Requirement already satisfied: tifffile>=2022.8.12 in /home/charles-dv/.local/lib/python3.10/site-packages (from scikit-image->medmnist) (2023.12.9)\n",
      "Requirement already satisfied: threadpoolctl>=2.0.0 in /home/charles-dv/.local/lib/python3.10/site-packages (from scikit-learn->medmnist) (3.2.0)\n",
      "Requirement already satisfied: joblib>=1.1.1 in /home/charles-dv/.local/lib/python3.10/site-packages (from scikit-learn->medmnist) (1.3.2)\n",
      "Requirement already satisfied: typing-extensions in /home/charles-dv/.local/lib/python3.10/site-packages (from torch->medmnist) (4.8.0)\n",
      "Requirement already satisfied: filelock in /home/charles-dv/.local/lib/python3.10/site-packages (from torch->medmnist) (3.13.1)\n",
      "Requirement already satisfied: jinja2 in /home/charles-dv/.local/lib/python3.10/site-packages (from torch->medmnist) (3.1.2)\n",
      "Requirement already satisfied: nvidia-cudnn-cu12==8.9.2.26 in /home/charles-dv/.local/lib/python3.10/site-packages (from torch->medmnist) (8.9.2.26)\n",
      "Requirement already satisfied: nvidia-cublas-cu12==12.1.3.1 in /home/charles-dv/.local/lib/python3.10/site-packages (from torch->medmnist) (12.1.3.1)\n",
      "Requirement already satisfied: nvidia-cusolver-cu12==11.4.5.107 in /home/charles-dv/.local/lib/python3.10/site-packages (from torch->medmnist) (11.4.5.107)\n",
      "Requirement already satisfied: sympy in /home/charles-dv/.local/lib/python3.10/site-packages (from torch->medmnist) (1.12)\n",
      "Requirement already satisfied: nvidia-nccl-cu12==2.18.1 in /home/charles-dv/.local/lib/python3.10/site-packages (from torch->medmnist) (2.18.1)\n",
      "Requirement already satisfied: nvidia-nvtx-cu12==12.1.105 in /home/charles-dv/.local/lib/python3.10/site-packages (from torch->medmnist) (12.1.105)\n",
      "Requirement already satisfied: triton==2.1.0 in /home/charles-dv/.local/lib/python3.10/site-packages (from torch->medmnist) (2.1.0)\n",
      "Requirement already satisfied: nvidia-cufft-cu12==11.0.2.54 in /home/charles-dv/.local/lib/python3.10/site-packages (from torch->medmnist) (11.0.2.54)\n",
      "Requirement already satisfied: nvidia-cuda-cupti-cu12==12.1.105 in /home/charles-dv/.local/lib/python3.10/site-packages (from torch->medmnist) (12.1.105)\n",
      "Requirement already satisfied: fsspec in /home/charles-dv/.local/lib/python3.10/site-packages (from torch->medmnist) (2023.10.0)\n",
      "Requirement already satisfied: nvidia-curand-cu12==10.3.2.106 in /home/charles-dv/.local/lib/python3.10/site-packages (from torch->medmnist) (10.3.2.106)\n",
      "Requirement already satisfied: nvidia-cusparse-cu12==12.1.0.106 in /home/charles-dv/.local/lib/python3.10/site-packages (from torch->medmnist) (12.1.0.106)\n",
      "Requirement already satisfied: nvidia-cuda-nvrtc-cu12==12.1.105 in /home/charles-dv/.local/lib/python3.10/site-packages (from torch->medmnist) (12.1.105)\n",
      "Requirement already satisfied: nvidia-cuda-runtime-cu12==12.1.105 in /home/charles-dv/.local/lib/python3.10/site-packages (from torch->medmnist) (12.1.105)\n",
      "Requirement already satisfied: nvidia-nvjitlink-cu12 in /home/charles-dv/.local/lib/python3.10/site-packages (from nvidia-cusolver-cu12==11.4.5.107->torch->medmnist) (12.3.52)\n",
      "Requirement already satisfied: requests in /home/charles-dv/.local/lib/python3.10/site-packages (from torchvision->medmnist) (2.31.0)\n",
      "Requirement already satisfied: MarkupSafe>=2.0 in /home/charles-dv/.local/lib/python3.10/site-packages (from jinja2->torch->medmnist) (2.1.3)\n",
      "Requirement already satisfied: charset-normalizer<4,>=2 in /home/charles-dv/.local/lib/python3.10/site-packages (from requests->torchvision->medmnist) (3.3.0)\n",
      "Requirement already satisfied: idna<4,>=2.5 in /home/charles-dv/.local/lib/python3.10/site-packages (from requests->torchvision->medmnist) (3.4)\n",
      "Requirement already satisfied: certifi>=2017.4.17 in /home/charles-dv/.local/lib/python3.10/site-packages (from requests->torchvision->medmnist) (2023.7.22)\n",
      "Requirement already satisfied: urllib3<3,>=1.21.1 in /home/charles-dv/.local/lib/python3.10/site-packages (from requests->torchvision->medmnist) (2.0.7)\n",
      "Requirement already satisfied: mpmath>=0.19 in /home/charles-dv/.local/lib/python3.10/site-packages (from sympy->torch->medmnist) (1.3.0)\n"
     ]
    }
   ],
   "source": [
    "!pip install medmnist"
   ]
  },
  {
   "cell_type": "markdown",
   "metadata": {},
   "source": [
    "Import Required Modules"
   ]
  },
  {
   "cell_type": "code",
   "execution_count": 2,
   "metadata": {},
   "outputs": [],
   "source": [
    "import numpy as np\n",
    "import imageio.v3 as iio\n",
    "import os\n",
    "from tqdm import tqdm\n",
    "import medmnist\n",
    "from medmnist import INFO, Evaluator\n",
    "# data = np.load('chestmnist.npz')\n",
    "# lst = data.files\n",
    "# for item in lst:\n",
    "#     print(item)\n",
    "#     print(data[item])\n",
    "# # def get_image_matrix():\n",
    "# #     directory = os.fsencode(\"./dataset/test\")\n",
    "\n",
    "# #     for file in os.listdir"
   ]
  },
  {
   "cell_type": "code",
   "execution_count": 3,
   "metadata": {},
   "outputs": [],
   "source": [
    "import dataset_without_pytorch\n",
    "\n",
    "from dataset_without_pytorch import get_loader"
   ]
  },
  {
   "cell_type": "code",
   "execution_count": 4,
   "metadata": {},
   "outputs": [
    {
     "name": "stdout",
     "output_type": "stream",
     "text": [
      "Using downloaded and verified file: /home/charles-dv/.medmnist/bloodmnist.npz\n",
      "Using downloaded and verified file: /home/charles-dv/.medmnist/bloodmnist.npz\n",
      "Using downloaded and verified file: /home/charles-dv/.medmnist/bloodmnist.npz\n"
     ]
    }
   ],
   "source": [
    "data_flag = 'bloodmnist'\n",
    "# data_flag = 'organsmnist'\n",
    "download = True\n",
    "\n",
    "NUM_EPOCHS = 3\n",
    "BATCH_SIZE = 128\n",
    "lr = 0.001\n",
    "\n",
    "info = INFO[data_flag]\n",
    "task = info['task']\n",
    "n_channels = info['n_channels']\n",
    "n_classes = len(info['label'])\n",
    "\n",
    "DataClass = getattr(dataset_without_pytorch, info['python_class'])\n",
    "\n",
    "# load the data\n",
    "train_dataset = DataClass(split='train', download=download)\n",
    "val_dataset = DataClass(split='val', download=download)\n",
    "test_dataset = DataClass(split='test', download=download)\n",
    "\n",
    "# encapsulate data into dataloader form\n",
    "train_loader = get_loader(dataset=train_dataset, batch_size=BATCH_SIZE)"
   ]
  },
  {
   "cell_type": "code",
   "execution_count": 5,
   "metadata": {},
   "outputs": [
    {
     "name": "stdout",
     "output_type": "stream",
     "text": [
      "Dataset BloodMNIST (bloodmnist)\n",
      "    Number of datapoints: 11959\n",
      "    Root location: /home/charles-dv/.medmnist\n",
      "    Split: train\n",
      "    Task: multi-class\n",
      "    Number of channels: 3\n",
      "    Meaning of labels: {'0': 'basophil', '1': 'eosinophil', '2': 'erythroblast', '3': 'immature granulocytes(myelocytes, metamyelocytes and promyelocytes)', '4': 'lymphocyte', '5': 'monocyte', '6': 'neutrophil', '7': 'platelet'}\n",
      "    Number of samples: {'train': 11959, 'val': 1712, 'test': 3421}\n",
      "    Description: The BloodMNIST is based on a dataset of individual normal cells, captured from individuals without infection, hematologic or oncologic disease and free of any pharmacologic treatment at the moment of blood collection. It contains a total of 17,092 images and is organized into 8 classes. We split the source dataset with a ratio of 7:1:2 into training, validation and test set. The source images with resolution 3×360×363 pixels are center-cropped into 3×200×200, and then resized into 3×28×28.\n",
      "    License: CC BY 4.0\n"
     ]
    }
   ],
   "source": [
    "print(train_dataset)"
   ]
  },
  {
   "cell_type": "code",
   "execution_count": 6,
   "metadata": {},
   "outputs": [],
   "source": [
    "train_data, train_labels = [], []\n",
    "val_data, val_labels = [], []\n",
    "test_data, test_labels = [], []\n",
    "\n",
    "for x, y in train_dataset:\n",
    "    train_data.append(x)\n",
    "    train_labels.append(y)\n",
    "\n",
    "for x, y in val_dataset:\n",
    "    val_data.append(x)\n",
    "    val_labels.append(y)\n",
    "\n",
    "for x, y in test_dataset:\n",
    "    test_data.append(x)\n",
    "    test_labels.append(y)\n"
   ]
  },
  {
   "cell_type": "code",
   "execution_count": null,
   "metadata": {},
   "outputs": [],
   "source": []
  }
 ],
 "metadata": {
  "kernelspec": {
   "display_name": "Python 3",
   "language": "python",
   "name": "python3"
  },
  "language_info": {
   "codemirror_mode": {
    "name": "ipython",
    "version": 3
   },
   "file_extension": ".py",
   "mimetype": "text/x-python",
   "name": "python",
   "nbconvert_exporter": "python",
   "pygments_lexer": "ipython3",
   "version": "3.10.12"
  }
 },
 "nbformat": 4,
 "nbformat_minor": 2
}
