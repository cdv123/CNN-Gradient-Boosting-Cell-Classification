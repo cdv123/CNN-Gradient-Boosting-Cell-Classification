{
 "cells": [
  {
   "cell_type": "code",
   "execution_count": 91,
   "metadata": {
    "vscode": {
     "languageId": "shellscript"
    }
   },
   "outputs": [
    {
     "name": "stdout",
     "output_type": "stream",
     "text": [
      "Defaulting to user installation because normal site-packages is not writeable\n",
      "Requirement already satisfied: medmnist in /home/charles-dv/.local/lib/python3.10/site-packages (2.2.3)\n",
      "Requirement already satisfied: scikit-image in /home/charles-dv/.local/lib/python3.10/site-packages (from medmnist) (0.22.0)\n",
      "Requirement already satisfied: torchvision in /home/charles-dv/.local/lib/python3.10/site-packages (from medmnist) (0.16.2)\n",
      "Requirement already satisfied: scikit-learn in /home/charles-dv/.local/lib/python3.10/site-packages (from medmnist) (1.3.2)\n",
      "Requirement already satisfied: fire in /home/charles-dv/.local/lib/python3.10/site-packages (from medmnist) (0.5.0)\n",
      "Requirement already satisfied: torch in /home/charles-dv/.local/lib/python3.10/site-packages (from medmnist) (2.1.2)\n",
      "Requirement already satisfied: pandas in /home/charles-dv/.local/lib/python3.10/site-packages (from medmnist) (2.1.2)\n",
      "Requirement already satisfied: tqdm in /home/charles-dv/.local/lib/python3.10/site-packages (from medmnist) (4.66.1)\n",
      "Requirement already satisfied: numpy in /home/charles-dv/.local/lib/python3.10/site-packages (from medmnist) (1.26.1)\n",
      "Requirement already satisfied: Pillow in /home/charles-dv/.local/lib/python3.10/site-packages (from medmnist) (10.1.0)\n",
      "Requirement already satisfied: six in /usr/lib/python3/dist-packages (from fire->medmnist) (1.16.0)\n",
      "Requirement already satisfied: termcolor in /home/charles-dv/.local/lib/python3.10/site-packages (from fire->medmnist) (2.3.0)\n",
      "Requirement already satisfied: python-dateutil>=2.8.2 in /home/charles-dv/.local/lib/python3.10/site-packages (from pandas->medmnist) (2.8.2)\n",
      "Requirement already satisfied: tzdata>=2022.1 in /home/charles-dv/.local/lib/python3.10/site-packages (from pandas->medmnist) (2023.3)\n",
      "Requirement already satisfied: pytz>=2020.1 in /home/charles-dv/.local/lib/python3.10/site-packages (from pandas->medmnist) (2023.3.post1)\n",
      "Requirement already satisfied: scipy>=1.8 in /home/charles-dv/.local/lib/python3.10/site-packages (from scikit-image->medmnist) (1.11.3)\n",
      "Requirement already satisfied: packaging>=21 in /home/charles-dv/.local/lib/python3.10/site-packages (from scikit-image->medmnist) (23.2)\n",
      "Requirement already satisfied: networkx>=2.8 in /home/charles-dv/.local/lib/python3.10/site-packages (from scikit-image->medmnist) (3.2.1)\n",
      "Requirement already satisfied: imageio>=2.27 in /home/charles-dv/.local/lib/python3.10/site-packages (from scikit-image->medmnist) (2.33.1)\n",
      "Requirement already satisfied: tifffile>=2022.8.12 in /home/charles-dv/.local/lib/python3.10/site-packages (from scikit-image->medmnist) (2023.12.9)\n",
      "Requirement already satisfied: lazy_loader>=0.3 in /home/charles-dv/.local/lib/python3.10/site-packages (from scikit-image->medmnist) (0.3)\n",
      "Requirement already satisfied: threadpoolctl>=2.0.0 in /home/charles-dv/.local/lib/python3.10/site-packages (from scikit-learn->medmnist) (3.2.0)\n",
      "Requirement already satisfied: joblib>=1.1.1 in /home/charles-dv/.local/lib/python3.10/site-packages (from scikit-learn->medmnist) (1.3.2)\n",
      "Requirement already satisfied: sympy in /home/charles-dv/.local/lib/python3.10/site-packages (from torch->medmnist) (1.12)\n",
      "Requirement already satisfied: nvidia-cuda-nvrtc-cu12==12.1.105 in /home/charles-dv/.local/lib/python3.10/site-packages (from torch->medmnist) (12.1.105)\n",
      "Requirement already satisfied: nvidia-cuda-cupti-cu12==12.1.105 in /home/charles-dv/.local/lib/python3.10/site-packages (from torch->medmnist) (12.1.105)\n",
      "Requirement already satisfied: jinja2 in /home/charles-dv/.local/lib/python3.10/site-packages (from torch->medmnist) (3.1.2)\n",
      "Requirement already satisfied: filelock in /home/charles-dv/.local/lib/python3.10/site-packages (from torch->medmnist) (3.13.1)\n",
      "Requirement already satisfied: typing-extensions in /home/charles-dv/.local/lib/python3.10/site-packages (from torch->medmnist) (4.8.0)\n",
      "Requirement already satisfied: nvidia-cublas-cu12==12.1.3.1 in /home/charles-dv/.local/lib/python3.10/site-packages (from torch->medmnist) (12.1.3.1)\n",
      "Requirement already satisfied: nvidia-nvtx-cu12==12.1.105 in /home/charles-dv/.local/lib/python3.10/site-packages (from torch->medmnist) (12.1.105)\n",
      "Requirement already satisfied: nvidia-cuda-runtime-cu12==12.1.105 in /home/charles-dv/.local/lib/python3.10/site-packages (from torch->medmnist) (12.1.105)\n",
      "Requirement already satisfied: triton==2.1.0 in /home/charles-dv/.local/lib/python3.10/site-packages (from torch->medmnist) (2.1.0)\n",
      "Requirement already satisfied: nvidia-cusolver-cu12==11.4.5.107 in /home/charles-dv/.local/lib/python3.10/site-packages (from torch->medmnist) (11.4.5.107)\n",
      "Requirement already satisfied: fsspec in /home/charles-dv/.local/lib/python3.10/site-packages (from torch->medmnist) (2023.10.0)\n",
      "Requirement already satisfied: nvidia-curand-cu12==10.3.2.106 in /home/charles-dv/.local/lib/python3.10/site-packages (from torch->medmnist) (10.3.2.106)\n",
      "Requirement already satisfied: nvidia-cusparse-cu12==12.1.0.106 in /home/charles-dv/.local/lib/python3.10/site-packages (from torch->medmnist) (12.1.0.106)\n",
      "Requirement already satisfied: nvidia-cudnn-cu12==8.9.2.26 in /home/charles-dv/.local/lib/python3.10/site-packages (from torch->medmnist) (8.9.2.26)\n",
      "Requirement already satisfied: nvidia-nccl-cu12==2.18.1 in /home/charles-dv/.local/lib/python3.10/site-packages (from torch->medmnist) (2.18.1)\n",
      "Requirement already satisfied: nvidia-cufft-cu12==11.0.2.54 in /home/charles-dv/.local/lib/python3.10/site-packages (from torch->medmnist) (11.0.2.54)\n",
      "Requirement already satisfied: nvidia-nvjitlink-cu12 in /home/charles-dv/.local/lib/python3.10/site-packages (from nvidia-cusolver-cu12==11.4.5.107->torch->medmnist) (12.3.52)\n",
      "Requirement already satisfied: requests in /home/charles-dv/.local/lib/python3.10/site-packages (from torchvision->medmnist) (2.31.0)\n",
      "Requirement already satisfied: MarkupSafe>=2.0 in /home/charles-dv/.local/lib/python3.10/site-packages (from jinja2->torch->medmnist) (2.1.3)\n",
      "Requirement already satisfied: idna<4,>=2.5 in /home/charles-dv/.local/lib/python3.10/site-packages (from requests->torchvision->medmnist) (3.4)\n",
      "Requirement already satisfied: certifi>=2017.4.17 in /home/charles-dv/.local/lib/python3.10/site-packages (from requests->torchvision->medmnist) (2023.7.22)\n",
      "Requirement already satisfied: urllib3<3,>=1.21.1 in /home/charles-dv/.local/lib/python3.10/site-packages (from requests->torchvision->medmnist) (2.0.7)\n",
      "Requirement already satisfied: charset-normalizer<4,>=2 in /home/charles-dv/.local/lib/python3.10/site-packages (from requests->torchvision->medmnist) (3.3.0)\n",
      "Requirement already satisfied: mpmath>=0.19 in /home/charles-dv/.local/lib/python3.10/site-packages (from sympy->torch->medmnist) (1.3.0)\n"
     ]
    }
   ],
   "source": [
    "!pip install medmnist"
   ]
  },
  {
   "cell_type": "markdown",
   "metadata": {},
   "source": [
    "Import Required Modules"
   ]
  },
  {
   "cell_type": "code",
   "execution_count": 9,
   "metadata": {},
   "outputs": [],
   "source": [
    "import numpy as np\n",
    "import imageio.v3 as iio\n",
    "import os\n",
    "from tqdm import tqdm\n",
    "import medmnist\n",
    "from medmnist import INFO, Evaluator\n",
    "# data = np.load('chestmnist.npz')\n",
    "# lst = data.files\n",
    "# for item in lst:\n",
    "#     print(item)\n",
    "#     print(data[item])\n",
    "# # def get_image_matrix():\n",
    "# #     directory = os.fsencode(\"./dataset/test\")\n",
    "\n",
    "# #     for file in os.listdir"
   ]
  },
  {
   "cell_type": "code",
   "execution_count": 10,
   "metadata": {},
   "outputs": [],
   "source": [
    "import dataset_without_pytorch\n",
    "\n",
    "from dataset_without_pytorch import get_loader"
   ]
  },
  {
   "cell_type": "code",
   "execution_count": 11,
   "metadata": {},
   "outputs": [
    {
     "name": "stdout",
     "output_type": "stream",
     "text": [
      "Using downloaded and verified file: /home/charles-dv/.medmnist/chestmnist.npz\n",
      "Using downloaded and verified file: /home/charles-dv/.medmnist/chestmnist.npz\n",
      "Using downloaded and verified file: /home/charles-dv/.medmnist/chestmnist.npz\n"
     ]
    }
   ],
   "source": [
    "data_flag = 'chestmnist'\n",
    "# data_flag = 'organsmnist'\n",
    "download = True\n",
    "\n",
    "NUM_EPOCHS = 3\n",
    "BATCH_SIZE = 128\n",
    "lr = 0.001\n",
    "\n",
    "info = INFO[data_flag]\n",
    "task = info['task']\n",
    "n_channels = info['n_channels']\n",
    "n_classes = len(info['label'])\n",
    "\n",
    "DataClass = getattr(dataset_without_pytorch, info['python_class'])\n",
    "\n",
    "# load the data\n",
    "train_dataset = DataClass(split='train', download=download)\n",
    "val_dataset = DataClass(split='val', download=download)\n",
    "test_dataset = DataClass(split='test', download=download)\n",
    "\n",
    "# encapsulate data into dataloader form\n",
    "train_loader = get_loader(dataset=train_dataset, batch_size=BATCH_SIZE)"
   ]
  },
  {
   "cell_type": "code",
   "execution_count": 12,
   "metadata": {},
   "outputs": [
    {
     "name": "stdout",
     "output_type": "stream",
     "text": [
      "Dataset ChestMNIST (chestmnist)\n",
      "    Number of datapoints: 78468\n",
      "    Root location: /home/charles-dv/.medmnist\n",
      "    Split: train\n",
      "    Task: multi-label, binary-class\n",
      "    Number of channels: 1\n",
      "    Meaning of labels: {'0': 'atelectasis', '1': 'cardiomegaly', '2': 'effusion', '3': 'infiltration', '4': 'mass', '5': 'nodule', '6': 'pneumonia', '7': 'pneumothorax', '8': 'consolidation', '9': 'edema', '10': 'emphysema', '11': 'fibrosis', '12': 'pleural', '13': 'hernia'}\n",
      "    Number of samples: {'train': 78468, 'val': 11219, 'test': 22433}\n",
      "    Description: The ChestMNIST is based on the NIH-ChestXray14 dataset, a dataset comprising 112,120 frontal-view X-Ray images of 30,805 unique patients with the text-mined 14 disease labels, which could be formulized as a multi-label binary-class classification task. We use the official data split, and resize the source images of 1×1024×1024 into 1×28×28.\n",
      "    License: CC BY 4.0\n"
     ]
    }
   ],
   "source": [
    "print(train_dataset)"
   ]
  },
  {
   "cell_type": "code",
   "execution_count": 96,
   "metadata": {},
   "outputs": [],
   "source": [
    "train_data, train_labels = [], []\n",
    "val_data, val_labels = [], []\n",
    "test_data, test_labels = [], []\n",
    "\n",
    "for x, y in train_dataset:\n",
    "    train_data.append(x)\n",
    "    train_labels.append(y)\n",
    "\n",
    "for x, y in val_dataset:\n",
    "    val_data.append(x)\n",
    "    val_labels.append(y)\n",
    "\n",
    "for x, y in test_dataset:\n",
    "    test_data.append(x)\n",
    "    test_labels.append(y)\n"
   ]
  },
  {
   "cell_type": "code",
   "execution_count": 98,
   "metadata": {},
   "outputs": [
    {
     "name": "stdout",
     "output_type": "stream",
     "text": [
      "2005\n",
      "1003\n",
      "7007\n"
     ]
    },
    {
     "ename": "ValueError",
     "evalue": "setting an array element with a sequence. The requested array has an inhomogeneous shape after 2 dimensions. The detected shape was (7007, 2) + inhomogeneous part.",
     "output_type": "error",
     "traceback": [
      "\u001b[0;31m---------------------------------------------------------------------------\u001b[0m",
      "\u001b[0;31mAttributeError\u001b[0m                            Traceback (most recent call last)",
      "File \u001b[0;32m~/.local/lib/python3.10/site-packages/numpy/core/fromnumeric.py:2022\u001b[0m, in \u001b[0;36mshape\u001b[0;34m(a)\u001b[0m\n\u001b[1;32m   2021\u001b[0m \u001b[38;5;28;01mtry\u001b[39;00m:\n\u001b[0;32m-> 2022\u001b[0m     result \u001b[38;5;241m=\u001b[39m \u001b[43ma\u001b[49m\u001b[38;5;241;43m.\u001b[39;49m\u001b[43mshape\u001b[49m\n\u001b[1;32m   2023\u001b[0m \u001b[38;5;28;01mexcept\u001b[39;00m \u001b[38;5;167;01mAttributeError\u001b[39;00m:\n",
      "\u001b[0;31mAttributeError\u001b[0m: 'DermaMNIST' object has no attribute 'shape'",
      "\nDuring handling of the above exception, another exception occurred:\n",
      "\u001b[0;31mValueError\u001b[0m                                Traceback (most recent call last)",
      "Cell \u001b[0;32mIn[98], line 4\u001b[0m\n\u001b[1;32m      2\u001b[0m \u001b[38;5;28mprint\u001b[39m(\u001b[38;5;28mlen\u001b[39m(val_data))\n\u001b[1;32m      3\u001b[0m \u001b[38;5;28mprint\u001b[39m(\u001b[38;5;28mlen\u001b[39m(train_data))\n\u001b[0;32m----> 4\u001b[0m \u001b[38;5;28mprint\u001b[39m(\u001b[43mnp\u001b[49m\u001b[38;5;241;43m.\u001b[39;49m\u001b[43mshape\u001b[49m\u001b[43m(\u001b[49m\u001b[43mtrain_dataset\u001b[49m\u001b[43m)\u001b[49m)\n",
      "File \u001b[0;32m~/.local/lib/python3.10/site-packages/numpy/core/fromnumeric.py:2024\u001b[0m, in \u001b[0;36mshape\u001b[0;34m(a)\u001b[0m\n\u001b[1;32m   2022\u001b[0m     result \u001b[38;5;241m=\u001b[39m a\u001b[38;5;241m.\u001b[39mshape\n\u001b[1;32m   2023\u001b[0m \u001b[38;5;28;01mexcept\u001b[39;00m \u001b[38;5;167;01mAttributeError\u001b[39;00m:\n\u001b[0;32m-> 2024\u001b[0m     result \u001b[38;5;241m=\u001b[39m \u001b[43masarray\u001b[49m\u001b[43m(\u001b[49m\u001b[43ma\u001b[49m\u001b[43m)\u001b[49m\u001b[38;5;241m.\u001b[39mshape\n\u001b[1;32m   2025\u001b[0m \u001b[38;5;28;01mreturn\u001b[39;00m result\n",
      "\u001b[0;31mValueError\u001b[0m: setting an array element with a sequence. The requested array has an inhomogeneous shape after 2 dimensions. The detected shape was (7007, 2) + inhomogeneous part."
     ]
    }
   ],
   "source": []
  }
 ],
 "metadata": {
  "kernelspec": {
   "display_name": "Python 3",
   "language": "python",
   "name": "python3"
  },
  "language_info": {
   "codemirror_mode": {
    "name": "ipython",
    "version": 3
   },
   "file_extension": ".py",
   "mimetype": "text/x-python",
   "name": "python",
   "nbconvert_exporter": "python",
   "pygments_lexer": "ipython3",
   "version": "3.10.12"
  }
 },
 "nbformat": 4,
 "nbformat_minor": 2
}
